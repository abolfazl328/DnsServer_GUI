{
  "nbformat": 4,
  "nbformat_minor": 0,
  "metadata": {
    "colab": {
      "provenance": [],
      "gpuType": "T4",
      "include_colab_link": true
    },
    "kernelspec": {
      "name": "python3",
      "display_name": "Python 3"
    },
    "language_info": {
      "name": "python"
    },
    "accelerator": "GPU"
  },
  "cells": [
    {
      "cell_type": "markdown",
      "metadata": {
        "id": "view-in-github",
        "colab_type": "text"
      },
      "source": [
        "<a href=\"https://colab.research.google.com/github/abolfazl328/DnsServer_GUI/blob/main/GTZAN_classification.ipynb\" target=\"_parent\"><img src=\"https://colab.research.google.com/assets/colab-badge.svg\" alt=\"Open In Colab\"/></a>"
      ]
    },
    {
      "cell_type": "code",
      "source": [
        "pip install audiomentations"
      ],
      "metadata": {
        "colab": {
          "base_uri": "https://localhost:8080/"
        },
        "id": "QhRXJqTXUBPK",
        "outputId": "625e6a6f-4cc1-486d-86d7-1eb75fb8d6a1"
      },
      "execution_count": null,
      "outputs": [
        {
          "output_type": "stream",
          "name": "stdout",
          "text": [
            "Requirement already satisfied: audiomentations in /usr/local/lib/python3.11/dist-packages (0.39.0)\n",
            "Requirement already satisfied: numpy<2,>=1.21.0 in /usr/local/lib/python3.11/dist-packages (from audiomentations) (1.26.4)\n",
            "Requirement already satisfied: numpy-minmax<1,>=0.3.0 in /usr/local/lib/python3.11/dist-packages (from audiomentations) (0.3.1)\n",
            "Requirement already satisfied: numpy-rms<1,>=0.4.2 in /usr/local/lib/python3.11/dist-packages (from audiomentations) (0.4.2)\n",
            "Requirement already satisfied: librosa!=0.10.0,<0.11.0,>=0.8.0 in /usr/local/lib/python3.11/dist-packages (from audiomentations) (0.10.2.post1)\n",
            "Requirement already satisfied: python-stretch==0.2.0 in /usr/local/lib/python3.11/dist-packages (from audiomentations) (0.2.0)\n",
            "Requirement already satisfied: scipy<1.13,>=1.4 in /usr/local/lib/python3.11/dist-packages (from audiomentations) (1.12.0)\n",
            "Requirement already satisfied: soxr<1.0.0,>=0.3.2 in /usr/local/lib/python3.11/dist-packages (from audiomentations) (0.5.0.post1)\n",
            "Requirement already satisfied: audioread>=2.1.9 in /usr/local/lib/python3.11/dist-packages (from librosa!=0.10.0,<0.11.0,>=0.8.0->audiomentations) (3.0.1)\n",
            "Requirement already satisfied: scikit-learn>=0.20.0 in /usr/local/lib/python3.11/dist-packages (from librosa!=0.10.0,<0.11.0,>=0.8.0->audiomentations) (1.6.1)\n",
            "Requirement already satisfied: joblib>=0.14 in /usr/local/lib/python3.11/dist-packages (from librosa!=0.10.0,<0.11.0,>=0.8.0->audiomentations) (1.4.2)\n",
            "Requirement already satisfied: decorator>=4.3.0 in /usr/local/lib/python3.11/dist-packages (from librosa!=0.10.0,<0.11.0,>=0.8.0->audiomentations) (4.4.2)\n",
            "Requirement already satisfied: numba>=0.51.0 in /usr/local/lib/python3.11/dist-packages (from librosa!=0.10.0,<0.11.0,>=0.8.0->audiomentations) (0.61.0)\n",
            "Requirement already satisfied: soundfile>=0.12.1 in /usr/local/lib/python3.11/dist-packages (from librosa!=0.10.0,<0.11.0,>=0.8.0->audiomentations) (0.13.1)\n",
            "Requirement already satisfied: pooch>=1.1 in /usr/local/lib/python3.11/dist-packages (from librosa!=0.10.0,<0.11.0,>=0.8.0->audiomentations) (1.8.2)\n",
            "Requirement already satisfied: typing-extensions>=4.1.1 in /usr/local/lib/python3.11/dist-packages (from librosa!=0.10.0,<0.11.0,>=0.8.0->audiomentations) (4.12.2)\n",
            "Requirement already satisfied: lazy-loader>=0.1 in /usr/local/lib/python3.11/dist-packages (from librosa!=0.10.0,<0.11.0,>=0.8.0->audiomentations) (0.4)\n",
            "Requirement already satisfied: msgpack>=1.0 in /usr/local/lib/python3.11/dist-packages (from librosa!=0.10.0,<0.11.0,>=0.8.0->audiomentations) (1.1.0)\n",
            "Requirement already satisfied: cffi>=1.0.0 in /usr/local/lib/python3.11/dist-packages (from numpy-minmax<1,>=0.3.0->audiomentations) (1.17.1)\n",
            "Requirement already satisfied: pycparser in /usr/local/lib/python3.11/dist-packages (from cffi>=1.0.0->numpy-minmax<1,>=0.3.0->audiomentations) (2.22)\n",
            "Requirement already satisfied: packaging in /usr/local/lib/python3.11/dist-packages (from lazy-loader>=0.1->librosa!=0.10.0,<0.11.0,>=0.8.0->audiomentations) (24.2)\n",
            "Requirement already satisfied: llvmlite<0.45,>=0.44.0dev0 in /usr/local/lib/python3.11/dist-packages (from numba>=0.51.0->librosa!=0.10.0,<0.11.0,>=0.8.0->audiomentations) (0.44.0)\n",
            "Requirement already satisfied: platformdirs>=2.5.0 in /usr/local/lib/python3.11/dist-packages (from pooch>=1.1->librosa!=0.10.0,<0.11.0,>=0.8.0->audiomentations) (4.3.6)\n",
            "Requirement already satisfied: requests>=2.19.0 in /usr/local/lib/python3.11/dist-packages (from pooch>=1.1->librosa!=0.10.0,<0.11.0,>=0.8.0->audiomentations) (2.32.3)\n",
            "Requirement already satisfied: threadpoolctl>=3.1.0 in /usr/local/lib/python3.11/dist-packages (from scikit-learn>=0.20.0->librosa!=0.10.0,<0.11.0,>=0.8.0->audiomentations) (3.5.0)\n",
            "Requirement already satisfied: charset-normalizer<4,>=2 in /usr/local/lib/python3.11/dist-packages (from requests>=2.19.0->pooch>=1.1->librosa!=0.10.0,<0.11.0,>=0.8.0->audiomentations) (3.4.1)\n",
            "Requirement already satisfied: idna<4,>=2.5 in /usr/local/lib/python3.11/dist-packages (from requests>=2.19.0->pooch>=1.1->librosa!=0.10.0,<0.11.0,>=0.8.0->audiomentations) (3.10)\n",
            "Requirement already satisfied: urllib3<3,>=1.21.1 in /usr/local/lib/python3.11/dist-packages (from requests>=2.19.0->pooch>=1.1->librosa!=0.10.0,<0.11.0,>=0.8.0->audiomentations) (2.3.0)\n",
            "Requirement already satisfied: certifi>=2017.4.17 in /usr/local/lib/python3.11/dist-packages (from requests>=2.19.0->pooch>=1.1->librosa!=0.10.0,<0.11.0,>=0.8.0->audiomentations) (2025.1.31)\n"
          ]
        }
      ]
    },
    {
      "cell_type": "markdown",
      "source": [
        "ابتدا کتاب خانه های مورد نظر را به پروژه اضافه میکنیم."
      ],
      "metadata": {
        "id": "_v9m5PpzVdUI"
      }
    },
    {
      "cell_type": "code",
      "execution_count": null,
      "metadata": {
        "id": "DgTR-r0ys4ui"
      },
      "outputs": [],
      "source": [
        "import kagglehub\n",
        "import os\n",
        "import librosa\n",
        "import numpy as np\n",
        "import tensorflow as tf\n",
        "from sklearn.model_selection import train_test_split  # For data splitting\n",
        "import audiomentations\n",
        "from tensorflow.keras.callbacks import EarlyStopping, ReduceLROnPlateau\n",
        "from sklearn.metrics import confusion_matrix, f1_score, precision_score, recall_score\n",
        "import matplotlib.pyplot as plt\n",
        "import seaborn as sns"
      ]
    },
    {
      "cell_type": "markdown",
      "source": [
        "در این بخش به علت استفاده از جی پی یو در صورت وجود جی پی یو آن را شناسایی کرده و به تنسور میگوییم که از جی پی یو استفاده کند."
      ],
      "metadata": {
        "id": "--O-HXnIVk0i"
      }
    },
    {
      "cell_type": "code",
      "source": [
        "gpus = tf.config.experimental.list_physical_devices('GPU')\n",
        "if gpus:\n",
        "  try:\n",
        "    for gpu in gpus:\n",
        "      tf.config.experimental.set_memory_growth(gpu, True) # Prevents memo\n",
        "      print(\"GPU is available and enabled for training.\")\n",
        "  except RuntimeError as e:\n",
        "    print(e)"
      ],
      "metadata": {
        "id": "8_6QGGmlwE_i",
        "colab": {
          "base_uri": "https://localhost:8080/"
        },
        "outputId": "aaedb54c-f285-49be-f028-6efa40fe52fe"
      },
      "execution_count": null,
      "outputs": [
        {
          "output_type": "stream",
          "name": "stdout",
          "text": [
            "GPU is available and enabled for training.\n"
          ]
        }
      ]
    },
    {
      "cell_type": "markdown",
      "source": [
        "در کد زیر دادگان از کگل دانلود کرده و به مسیر جنریز اورجینال میرویم."
      ],
      "metadata": {
        "id": "CFrk3-joV2L_"
      }
    },
    {
      "cell_type": "code",
      "source": [
        "# Download latest version\n",
        "path = kagglehub.dataset_download(\"andradaolteanu/gtzan-dataset-music-genre-classification\")+\"/Data/genres_original\"\n",
        "print(\"Path to dataset files:\", path)"
      ],
      "metadata": {
        "colab": {
          "base_uri": "https://localhost:8080/"
        },
        "id": "n1f2c_9DtI_g",
        "outputId": "8bb18b69-8f4f-4674-cd8b-db3e189de2f9"
      },
      "execution_count": null,
      "outputs": [
        {
          "output_type": "stream",
          "name": "stdout",
          "text": [
            "Warning: Looks like you're using an outdated `kagglehub` version (installed: 0.3.6), please consider upgrading to the latest version (0.3.8).\n",
            "Path to dataset files: /root/.cache/kagglehub/datasets/andradaolteanu/gtzan-dataset-music-genre-classification/versions/1/Data/genres_original\n"
          ]
        }
      ]
    },
    {
      "cell_type": "code",
      "source": [
        "list_of_musics = os.listdir(path)\n",
        "list_of_musics"
      ],
      "metadata": {
        "id": "aD6BaRgCtJV4",
        "colab": {
          "base_uri": "https://localhost:8080/"
        },
        "outputId": "bbaf49e4-c176-48d5-8850-71d70540c0d7"
      },
      "execution_count": null,
      "outputs": [
        {
          "output_type": "execute_result",
          "data": {
            "text/plain": [
              "['pop',\n",
              " 'rock',\n",
              " 'jazz',\n",
              " 'disco',\n",
              " 'metal',\n",
              " 'hiphop',\n",
              " 'blues',\n",
              " 'reggae',\n",
              " 'classical',\n",
              " 'country']"
            ]
          },
          "metadata": {},
          "execution_count": 5
        }
      ]
    },
    {
      "cell_type": "markdown",
      "source": [
        "تابع زیر اعداد به فرمت ۵ رقمی تبدیل میکند به صورتی که به سمت چپ اعداد صفر اضافه میکند به تعدادی که آن عدد ۵ رقمی شود.\n",
        "این تابع برای ساختن اسم فایل ها استفاده میشود."
      ],
      "metadata": {
        "id": "Z17LGeIhWXnp"
      }
    },
    {
      "cell_type": "code",
      "source": [
        "def format_with_zeros(number):\n",
        "  return \"{:05d}\".format(number)"
      ],
      "metadata": {
        "id": "2dWCjiMRUOmy"
      },
      "execution_count": null,
      "outputs": []
    },
    {
      "cell_type": "markdown",
      "source": [
        "تابع زیر با گرفتن مسیر یک فایل آن فایل را با کمک کتابخانه لیبروسا لود میکند و همچنین تابع زیر در صورت وجود خطا در آپلود یک فایل آن خطا را هندل کرده و آن فایل را اسکیپ میکند."
      ],
      "metadata": {
        "id": "6AwBbr8lWu4i"
      }
    },
    {
      "cell_type": "code",
      "source": [
        "  def loadaudio(audio_file):\n",
        "    try:\n",
        "      audio, sr = librosa.load(audio_file, sr=None) # Load with a maximum duration of 30 seconds\n",
        "      return audio, sr\n",
        "    except Exception as e:\n",
        "      print(f\"Error loading audio file {audio_file}: {e}\")\n",
        "      return None, None"
      ],
      "metadata": {
        "id": "Q_kHFK02cKaS"
      },
      "execution_count": null,
      "outputs": []
    },
    {
      "cell_type": "markdown",
      "source": [
        "در کد زیر زنجیره ای از تبدیل ها برای تبدیل فایل های صوتی و اسخت فایل های جدید است تا بتوان مشکل اورفیتیتنگ را با افزایش دادگان ورودی حل کرد.\n",
        "در کد زیر در یک مرحله کشش زمانی رخ میدهد.\n",
        "در مرحله بعد شیفت زمانی در دوره تناوب رخ میدهد.\n",
        "در مرحله بعد نویز گاوسی اضافه میشود.\n",
        "در مرحله بعد گین را تنظیم میکنیم و مین و ماکس را ست میکنیم. گین همان ولوم موزیک حساب میشود.\n",
        "از لول بعدی برای نرمال سازی صوت یعنی عادی سازی صوت تبدیل شده استفاده میشود.\n",
        "باید توجه داشت که گمان میشود در صورت تبدیل یک صوت به ۳ صوت دیگر هر ۳ صوت ساخته مشابه یکدیگر خواهند بود. اما باید در نظر گرفت که در هر مرحله از تبدیل احتمال وقوع آن مرحله ۵۰ درصد است پس در صورت تبدیل بک فایل صوتی به ۳ فایل صوتی جدید احتمال تشابه آنها بسیا کم است."
      ],
      "metadata": {
        "id": "fErPBDYZXHn_"
      }
    },
    {
      "cell_type": "code",
      "source": [
        "augmenter = audiomentations.Compose([\n",
        "    audiomentations.TimeStretch(min_rate=0.8, max_rate=1.2, p=0.5),\n",
        "    audiomentations.PitchShift(min_semitones=-2, max_semitones=2, p=0.5),\n",
        "    audiomentations.AddGaussianNoise(min_amplitude=0.001, max_amplitude=0.015, p=0.5),\n",
        "    audiomentations.Gain(min_gain_db=-3, max_gain_db=3, p=0.5),\n",
        "    audiomentations.Normalize(p=0.5),\n",
        "])"
      ],
      "metadata": {
        "id": "3lG9JSumprSA"
      },
      "execution_count": null,
      "outputs": []
    },
    {
      "cell_type": "markdown",
      "source": [
        "با فراخوانی تابع زیر تیدل صوت صورت میپذیرد."
      ],
      "metadata": {
        "id": "-BBcY9Rae8l-"
      }
    },
    {
      "cell_type": "code",
      "source": [
        "def process_audio(y, sr, augment=False):\n",
        "    if augment:\n",
        "        try:\n",
        "            y = augmenter(samples=y, sample_rate=sr)\n",
        "        except Exception as e:\n",
        "            print(f\"Augmentation error for {audio_file}: {e}\")\n",
        "    return y, sr"
      ],
      "metadata": {
        "id": "iILi7tfOpjNP"
      },
      "execution_count": null,
      "outputs": []
    },
    {
      "cell_type": "markdown",
      "source": [
        "در کد زیر تمامی ۱۰۰۰ داده را خوانده و سپس بر روی هر کدام از آنها ۳ بار تبدیل انجام میدهیم. باید توجه داشت در مرحله زیر هم نرمال سازی صورت میگیرد و هم تبدیل صوت ها برای ساخت صوت های جدید. اما این را نیز باید در نظر گرفت که هم دادگان نرمال نشده از کد زیر بدست می آیند هم دادگان نرمال شده.\n",
        "باید در نظر داشت بخاطر سنگینی بخش که مراحلی چون لود فایل تبدیل فایل استخراج ویژگی های فایل های صوتی ذخیره آن در متغیر های مربوطه و سپس نرمال سازی آنها و باز ذخیره آنها در متغیر مربوطه کد  زیر در بازه زمانی طولانی اجرا خواهد شد.\n",
        "همچنین بعد از تلاش های بسیار متوجه شدم که یکی از فایل ها یعنی فایل شماره ۵۴ از دسته جز با مشکل خواندن همراه است برای همین این فایل اسکیپ میشود."
      ],
      "metadata": {
        "id": "R4bVkkN7fHGF"
      }
    },
    {
      "cell_type": "code",
      "source": [
        "normalized_x = []\n",
        "normalized_y = []\n",
        "unnormalized_x = []\n",
        "unnormalized_y = []\n",
        "n_augmentations_per_clip = 3\n",
        "for j in range(100):\n",
        "  k = 0\n",
        "  for i in list_of_musics:\n",
        "    audio_file = path+f\"/{i}/{i}.{format_with_zeros(j)}.wav\"\n",
        "    audio, sr = loadaudio(audio_file)\n",
        "    if audio is None:\n",
        "      continue\n",
        "    for i in range(n_augmentations_per_clip):\n",
        "      audio_augmented, sr = process_audio(audio, sr, augment=True) # dummy process_audio call for augment\n",
        "      mel_spectrogram = librosa.feature.melspectrogram(y=audio, sr=sr, n_mels=128)  # Adjust n_mels as needed\n",
        "      log_mel_spectrogram = librosa.power_to_db(mel_spectrogram, ref=np.max) # Convert to decibels\n",
        "      unnormalized_x.append(log_mel_spectrogram)\n",
        "      unnormalized_y.append(k)\n",
        "      mean = np.mean(log_mel_spectrogram, axis=(0, 1), keepdims=True)  # Mean across time and channels\n",
        "      std = np.std(log_mel_spectrogram, axis=(0, 1), keepdims=True)\n",
        "      epsilon = 1e-7\n",
        "      normalized_spectrogram = (log_mel_spectrogram - mean) / (std + epsilon)\n",
        "      normalized_x.append(np.array(normalized_spectrogram))\n",
        "      normalized_y.append(k)\n",
        "    k+=1"
      ],
      "metadata": {
        "id": "3jUbj4UKNYTn",
        "colab": {
          "base_uri": "https://localhost:8080/"
        },
        "outputId": "1419c064-5974-4c29-8216-c9e69c64a8da"
      },
      "execution_count": null,
      "outputs": [
        {
          "output_type": "stream",
          "name": "stderr",
          "text": [
            "<ipython-input-7-d60cec9024df>:3: UserWarning: PySoundFile failed. Trying audioread instead.\n",
            "  audio, sr = librosa.load(audio_file, sr=None) # Load with a maximum duration of 30 seconds\n",
            "/usr/local/lib/python3.11/dist-packages/librosa/core/audio.py:184: FutureWarning: librosa.core.audio.__audioread_load\n",
            "\tDeprecated as of librosa version 0.10.0.\n",
            "\tIt will be removed in librosa version 1.0.\n",
            "  y, sr_native = __audioread_load(path, offset, duration, dtype)\n"
          ]
        },
        {
          "output_type": "stream",
          "name": "stdout",
          "text": [
            "Error loading audio file /root/.cache/kagglehub/datasets/andradaolteanu/gtzan-dataset-music-genre-classification/versions/1/Data/genres_original/jazz/jazz.00054.wav: \n"
          ]
        }
      ]
    },
    {
      "cell_type": "markdown",
      "source": [
        "در بخش زیر دادگان نرمال شده و نرمال نشده را به بخش های آموزش و تست تبدیل میشود."
      ],
      "metadata": {
        "id": "O3NUFxBNgOuX"
      }
    },
    {
      "cell_type": "code",
      "source": [
        "unnorm_x_train, unnorm_x_test, unnorm_y_train, unnorm_y_test = train_test_split(unnormalized_x, unnormalized_y, test_size=0.2, random_state=42) # 80% train, 20% test\n",
        "norm_x_train, norm_x_test, norm_y_train, norm_y_test = train_test_split(normalized_x, unnormalized_y, test_size=0.2, random_state=42) # 80% train, 20% test"
      ],
      "metadata": {
        "id": "PRaSTo45Nfyp"
      },
      "execution_count": null,
      "outputs": []
    },
    {
      "cell_type": "markdown",
      "source": [
        "در بخش زیر لیبل ها را به یک بردار ۱۰ تایی تبدیل کرده به صورتی که گر لیبل برار با ۱ باشد به صورت زیر نمایش داده میشود:\n",
        "[0,1,0,0,0,0,0,0,0,0]"
      ],
      "metadata": {
        "id": "N9IlP6DFgYWU"
      }
    },
    {
      "cell_type": "code",
      "source": [
        "num_classes = 10\n",
        "unnorm_y_train = tf.keras.utils.to_categorical(unnorm_y_train, num_classes=num_classes)\n",
        "unnorm_y_test = tf.keras.utils.to_categorical(unnorm_y_test, num_classes=num_classes)\n",
        "norm_y_train = tf.keras.utils.to_categorical(norm_y_train, num_classes=num_classes)\n",
        "norm_y_test = tf.keras.utils.to_categorical(norm_y_test, num_classes=num_classes)"
      ],
      "metadata": {
        "id": "RSSQ2y2BnDzk"
      },
      "execution_count": null,
      "outputs": []
    },
    {
      "cell_type": "markdown",
      "source": [
        "توابع جنریتور زیر اکس و وای را بازگردانده و یک بعد بعد دادگان ورودی یعنی اکس اضافه میکند."
      ],
      "metadata": {
        "id": "UzlZTqzTgmsP"
      }
    },
    {
      "cell_type": "code",
      "source": [
        "# def generator_train():\n",
        "#     for x, y_ in zip(x_train, y_train):\n",
        "#         yield np.expand_dims(x, axis=-1), y_  # Add channel dimension HERE\n",
        "\n",
        "# def generator_test():\n",
        "#     for x, y_ in zip(x_test, y_test):\n",
        "#         yield np.expand_dims(x, axis=-1), y_\n",
        "generator_unnorm_train = lambda: ((np.expand_dims(x, axis=-1), y_) for x, y_ in zip(unnorm_x_train, unnorm_y_train))\n",
        "generator_norm_train = lambda: ((np.expand_dims(x, axis=-1), y_) for x, y_ in zip(norm_x_train, norm_y_train))\n",
        "generator_unnorm_test = lambda: ((np.expand_dims(x, axis=-1), y_) for x, y_ in zip(unnorm_x_test, unnorm_y_test))\n",
        "generator_norm_test = lambda: ((np.expand_dims(x, axis=-1), y_) for x, y_ in zip(norm_x_test, norm_y_test))"
      ],
      "metadata": {
        "id": "zXHLepbE0W-f"
      },
      "execution_count": null,
      "outputs": []
    },
    {
      "cell_type": "markdown",
      "source": [
        "در بخش زیر با استفاده از تابع جنریتور مرتبط دیتاست تنسور را میسازیم به این صورت که ابتدا تابع سازنده صدا زده میشود سپس در مرحله بعد ابعاد داده های خروجی از تابع سازنده تنظیم میشود.\n",
        "در مرحله بعد از پدینگ صفر استفاده میشود تا سایز تمامی دادگان درون هر بچ یکسان است اما سایز دادگان بچ ها میتواند باهم متفاوت باشد زیرا این پدینگ بر اساس بزرگترین سایز دادگان موجود در هر بچ اتفاق میافتد یعنی به اندازه بزرگترین در هر بچ به دادگان کوچکتر صفر اضافه میشود ولی ممکن است بزرگترین در هر بچ متفاوت باشد."
      ],
      "metadata": {
        "id": "3tyhVUrrjVla"
      }
    },
    {
      "cell_type": "code",
      "source": [
        "unnorm_train_dataset = tf.data.Dataset.from_generator(\n",
        "    # generator_train,\n",
        "    generator_unnorm_train,\n",
        "    output_signature=(\n",
        "        tf.TensorSpec(shape=(128, None, 1), dtype=tf.float32),\n",
        "        tf.TensorSpec(shape=(num_classes,), dtype=tf.float32),\n",
        "    ),\n",
        ").padded_batch(\n",
        "    batch_size=32,\n",
        "    padded_shapes=([128, None, 1], [num_classes]),  # Pad time dimension to None\n",
        "    padding_values=(0.0, 0.0), # Padding value for spectrograms and labels\n",
        "    drop_remainder=False # Keep last batch even if it is not full\n",
        ")\n",
        "\n",
        "norm_train_dataset = tf.data.Dataset.from_generator(\n",
        "    # generator_train,\n",
        "    generator_norm_train,\n",
        "    output_signature=(\n",
        "        tf.TensorSpec(shape=(128, None, 1), dtype=tf.float32),\n",
        "        tf.TensorSpec(shape=(num_classes,), dtype=tf.float32),\n",
        "    ),\n",
        ").padded_batch(\n",
        "    batch_size=32,\n",
        "    padded_shapes=([128, None, 1], [num_classes]),  # Pad time dimension to None\n",
        "    padding_values=(0.0, 0.0), # Padding value for spectrograms and labels\n",
        "    drop_remainder=False # Keep last batch even if it is not full\n",
        ")\n",
        "\n",
        "\n",
        "unnorm_test_dataset = tf.data.Dataset.from_generator(\n",
        "    generator_unnorm_test,\n",
        "    output_signature=(\n",
        "        tf.TensorSpec(shape=(128, None, 1), dtype=tf.float32),\n",
        "        tf.TensorSpec(shape=(num_classes,), dtype=tf.float32),\n",
        "    ),\n",
        ").padded_batch(\n",
        "    batch_size=32,\n",
        "    padded_shapes=([128, None, 1], [num_classes]),  # Pad time dimension to None\n",
        "    padding_values=(0.0, 0.0), # Padding value for spectrograms and labels\n",
        "    drop_remainder=False # Keep last batch even if it is not full\n",
        ")\n",
        "\n",
        "norm_test_dataset = tf.data.Dataset.from_generator(\n",
        "    generator_norm_test,\n",
        "    output_signature=(\n",
        "        tf.TensorSpec(shape=(128, None, 1), dtype=tf.float32),\n",
        "        tf.TensorSpec(shape=(num_classes,), dtype=tf.float32),\n",
        "    ),\n",
        ").padded_batch(\n",
        "    batch_size=32,\n",
        "    padded_shapes=([128, None, 1], [num_classes]),  # Pad time dimension to None\n",
        "    padding_values=(0.0, 0.0), # Padding value for spectrograms and labels\n",
        "    drop_remainder=False # Keep last batch even if it is not full\n",
        ")"
      ],
      "metadata": {
        "id": "uuLBzqnc0Yh4"
      },
      "execution_count": null,
      "outputs": []
    },
    {
      "cell_type": "markdown",
      "source": [
        "حال از مدل سی ان ان استفاده میکنیم.\n",
        "زیرا این مدل وابسته به داده وروردی نیست.\n",
        "این مدل از ۸ لایه تشکیل شده است.\n",
        "در ابندا ۳ لایه اول به ترتیب زیر هستند:\n",
        "لایه اول یک لایه کانولوشنی است که از کرنل ۳ در ۳ و تابع فعال ساز رلو استفاده میکند. همچنین از منظم ساز ال ۲ استفاده میکند. باید توجه داشت که در لایه اول باید ابعاد ورودی را مشخص کرد.\n",
        "در لایه بعد از یک لایه نرمال ساز استفاده میکنیم به ایت صورت که داده های حروجی از لایه قبل در هر بچ را نرمال میکند.\n",
        "در لایه سوم نیز از یک لایه ماکزیمم پولین برای کاهش اعاد استفاده میکنیم.\n",
        "این ۳ لایه یکبار دیگر تتا لایه ۶ تکرار میشوند.\n",
        "سپس در لایه ۷ از یک گلوبال اورج پولین استفاده میکنیم تا محدودیت در ابعاد از بین برود.\n",
        "سپس از یک لایه دسته بندی با تابع فعال ساز سافت مکس با تعداد ۱۰ نورون استفاده میکنیم.\n",
        "در لایه های اول و ۴ هم نیز به ترتیتب از ۳۲ و ۶۴ نورون استفاده میکنیم.\n",
        "سپس مدل را با بهینه ساز ادام کامپایل میکنیم.\n",
        "همچنین از تابع خطای کتگوریکال کراس انتروپی استفاده کردیم .\n",
        "خطا را نیز در هنکام ترین نمایش میدهیم."
      ],
      "metadata": {
        "id": "HNAwc3VFsj6T"
      }
    },
    {
      "cell_type": "code",
      "source": [
        "model= tf.keras.models.Sequential([\n",
        "    tf.keras.layers.Conv2D(32, (3, 3), activation='relu', kernel_regularizer=tf.keras.regularizers.l2(0.01), input_shape=(128, None, 1)),\n",
        "    tf.keras.layers.BatchNormalization(),  # Add Batch Normalization\n",
        "    tf.keras.layers.MaxPooling2D((2, 2)),\n",
        "\n",
        "    tf.keras.layers.Conv2D(64, (3, 3), activation='relu', kernel_regularizer=tf.keras.regularizers.l2(0.01)),\n",
        "    tf.keras.layers.BatchNormalization(),  # Add Batch Normalization\n",
        "    tf.keras.layers.MaxPooling2D((2, 2)),\n",
        "\n",
        "    # tf.keras.layers.Conv2D(128, (3, 3), activation='relu', kernel_regularizer=tf.keras.regularizers.l2(0.01)),  # More Conv layers\n",
        "    # tf.keras.layers.BatchNormalization(),  # Add Batch Normalization\n",
        "    # tf.keras.layers.MaxPooling2D((2, 2)),\n",
        "\n",
        "    # tf.keras.layers.Conv2D(256, (3, 3), activation='relu', kernel_regularizer=tf.keras.regularizers.l2(0.001)),  # Even more Conv layers\n",
        "    # tf.keras.layers.BatchNormalization(),  # Add Batch Normalization\n",
        "    # tf.keras.layers.MaxPooling2D((2, 2)),\n",
        "\n",
        "    tf.keras.layers.GlobalAveragePooling2D(),\n",
        "\n",
        "    # tf.keras.layers.Dense(512, activation='relu', kernel_regularizer=tf.keras.regularizers.l2(0.01)),  # Larger Dense Layer\n",
        "    # tf.keras.layers.Dropout(0.5),  # Dropout for regularization\n",
        "\n",
        "    # tf.keras.layers.Dense(256, activation='relu', kernel_regularizer=tf.keras.regularizers.l2(0.01)),  # Another Dense Layer\n",
        "    # tf.keras.layers.Dropout(0.5),  # Dropout for regularization\n",
        "\n",
        "    tf.keras.layers.Dense(num_classes, activation='softmax')  # Output layer\n",
        "])\n",
        "\n",
        "model.compile(optimizer='adam', loss='categorical_crossentropy', metrics=['accuracy'])"
      ],
      "metadata": {
        "id": "qf3RnGDKdgwP",
        "colab": {
          "base_uri": "https://localhost:8080/"
        },
        "outputId": "365a4bd9-959f-42ee-9490-75d061fbacef"
      },
      "execution_count": null,
      "outputs": [
        {
          "output_type": "stream",
          "name": "stderr",
          "text": [
            "/usr/local/lib/python3.11/dist-packages/keras/src/layers/convolutional/base_conv.py:107: UserWarning: Do not pass an `input_shape`/`input_dim` argument to a layer. When using Sequential models, prefer using an `Input(shape)` object as the first layer in the model instead.\n",
            "  super().__init__(activity_regularizer=activity_regularizer, **kwargs)\n"
          ]
        }
      ]
    },
    {
      "cell_type": "markdown",
      "source": [
        "از توقف زودهنگام برای جلوگیری از بیش برازش استفاده میکنیم به نوعی که اگر بعد از تعداد ۵ دور آموزش تغییری در حطا رخ نداد اموزش را متوقف کرده و وزن های قبلی را به عنوان بعترین وزن ها انتخاب کند."
      ],
      "metadata": {
        "id": "yMhtSbcjvgNN"
      }
    },
    {
      "cell_type": "code",
      "source": [
        "early_stopping = EarlyStopping(\n",
        "    monitor='val_loss',  # Monitor validation loss\n",
        "    patience=5,         # Number of epochs with no improvement before stopping\n",
        "    restore_best_weights=True  # Restore the weights from the epoch with the best validation loss\n",
        ")"
      ],
      "metadata": {
        "id": "qW1p_4xhNX1q"
      },
      "execution_count": null,
      "outputs": []
    },
    {
      "cell_type": "markdown",
      "source": [
        "برای حل مشکل بیش برازش از أموزش ضریب اموزش نیز استفاده کردیم به این صورت که اگر بعد از ۳ دور بهبودی رخ نداد ضریب اموزش را کاهش میدهیم.\n",
        "بعد از هر ۳ دور در صورتی که هیچ گونه پیشرفتی خاصل نشود ضریب اموزش نصف میشود."
      ],
      "metadata": {
        "id": "vuYhlh3dv6Bg"
      }
    },
    {
      "cell_type": "code",
      "source": [
        "reduce_lr = ReduceLROnPlateau(\n",
        "    monitor='val_loss',  # Monitor validation loss\n",
        "    factor=0.5,          # Reduce learning rate by this factor (e.g., 0.5)\n",
        "    patience=3,         # Number of epochs with no improvement before reducing LR\n",
        "    min_lr=1e-5         # Minimum learning rate\n",
        ")\n"
      ],
      "metadata": {
        "id": "gd-6qeUcf3W3"
      },
      "execution_count": null,
      "outputs": []
    },
    {
      "cell_type": "markdown",
      "source": [
        "در ابتدا دادگان نرمال سازی نشده را اموزش میدهیم به تعداد ۵۰ دور."
      ],
      "metadata": {
        "id": "p3QRoLQnw1AC"
      }
    },
    {
      "cell_type": "code",
      "source": [
        "unnormalized_data_train_history = model.fit(\n",
        "    unnorm_train_dataset,\n",
        "    epochs=50,\n",
        "    validation_data=unnorm_test_dataset,\n",
        "    callbacks=[early_stopping, reduce_lr]  # Add the callback here\n",
        "    )  # Adjust epochs and batch size as needed"
      ],
      "metadata": {
        "id": "ec5NfA-IePUp",
        "colab": {
          "base_uri": "https://localhost:8080/"
        },
        "outputId": "3238ee43-0891-453f-c70b-fce6ba807ca9"
      },
      "execution_count": null,
      "outputs": [
        {
          "output_type": "stream",
          "name": "stdout",
          "text": [
            "Epoch 1/50\n",
            "     75/Unknown \u001b[1m103s\u001b[0m 1s/step - accuracy: 0.3689 - loss: 2.2765"
          ]
        },
        {
          "output_type": "stream",
          "name": "stderr",
          "text": [
            "/usr/local/lib/python3.11/dist-packages/keras/src/trainers/epoch_iterator.py:151: UserWarning: Your input ran out of data; interrupting training. Make sure that your dataset or generator can generate at least `steps_per_epoch * epochs` batches. You may need to use the `.repeat()` function when building your dataset.\n",
            "  self._interrupted_warning()\n"
          ]
        },
        {
          "output_type": "stream",
          "name": "stdout",
          "text": [
            "\b\b\b\b\b\b\b\b\b\b\b\b\b\b\b\b\b\b\b\b\b\b\b\b\b\b\b\b\b\b\b\b\b\b\b\b\b\b\b\b\b\b\b\b\b\b\b\b\b\b\b\b\b\b\b\b\b\b\b\b\b\b\r\u001b[1m75/75\u001b[0m \u001b[32m━━━━━━━━━━━━━━━━━━━━\u001b[0m\u001b[37m\u001b[0m \u001b[1m125s\u001b[0m 2s/step - accuracy: 0.3698 - loss: 2.2731 - val_accuracy: 0.1983 - val_loss: 3.0619 - learning_rate: 0.0010\n",
            "Epoch 2/50\n",
            "\u001b[1m75/75\u001b[0m \u001b[32m━━━━━━━━━━━━━━━━━━━━\u001b[0m\u001b[37m\u001b[0m \u001b[1m10s\u001b[0m 132ms/step - accuracy: 0.5534 - loss: 1.6671 - val_accuracy: 0.2500 - val_loss: 2.1419 - learning_rate: 0.0010\n",
            "Epoch 3/50\n",
            "\u001b[1m75/75\u001b[0m \u001b[32m━━━━━━━━━━━━━━━━━━━━\u001b[0m\u001b[37m\u001b[0m \u001b[1m10s\u001b[0m 132ms/step - accuracy: 0.6088 - loss: 1.4727 - val_accuracy: 0.3233 - val_loss: 2.3759 - learning_rate: 0.0010\n",
            "Epoch 4/50\n",
            "\u001b[1m75/75\u001b[0m \u001b[32m━━━━━━━━━━━━━━━━━━━━\u001b[0m\u001b[37m\u001b[0m \u001b[1m10s\u001b[0m 131ms/step - accuracy: 0.6347 - loss: 1.3533 - val_accuracy: 0.3767 - val_loss: 1.9600 - learning_rate: 0.0010\n",
            "Epoch 5/50\n",
            "\u001b[1m75/75\u001b[0m \u001b[32m━━━━━━━━━━━━━━━━━━━━\u001b[0m\u001b[37m\u001b[0m \u001b[1m10s\u001b[0m 131ms/step - accuracy: 0.6656 - loss: 1.2543 - val_accuracy: 0.3600 - val_loss: 1.9176 - learning_rate: 0.0010\n",
            "Epoch 6/50\n",
            "\u001b[1m75/75\u001b[0m \u001b[32m━━━━━━━━━━━━━━━━━━━━\u001b[0m\u001b[37m\u001b[0m \u001b[1m10s\u001b[0m 131ms/step - accuracy: 0.6838 - loss: 1.1817 - val_accuracy: 0.3617 - val_loss: 2.2068 - learning_rate: 0.0010\n",
            "Epoch 7/50\n",
            "\u001b[1m75/75\u001b[0m \u001b[32m━━━━━━━━━━━━━━━━━━━━\u001b[0m\u001b[37m\u001b[0m \u001b[1m10s\u001b[0m 130ms/step - accuracy: 0.6962 - loss: 1.1159 - val_accuracy: 0.3283 - val_loss: 2.3949 - learning_rate: 0.0010\n",
            "Epoch 8/50\n",
            "\u001b[1m75/75\u001b[0m \u001b[32m━━━━━━━━━━━━━━━━━━━━\u001b[0m\u001b[37m\u001b[0m \u001b[1m10s\u001b[0m 130ms/step - accuracy: 0.7246 - loss: 1.0639 - val_accuracy: 0.4667 - val_loss: 1.7261 - learning_rate: 0.0010\n",
            "Epoch 9/50\n",
            "\u001b[1m75/75\u001b[0m \u001b[32m━━━━━━━━━━━━━━━━━━━━\u001b[0m\u001b[37m\u001b[0m \u001b[1m10s\u001b[0m 131ms/step - accuracy: 0.7279 - loss: 1.0158 - val_accuracy: 0.3600 - val_loss: 2.5572 - learning_rate: 0.0010\n",
            "Epoch 10/50\n",
            "\u001b[1m75/75\u001b[0m \u001b[32m━━━━━━━━━━━━━━━━━━━━\u001b[0m\u001b[37m\u001b[0m \u001b[1m10s\u001b[0m 130ms/step - accuracy: 0.7410 - loss: 0.9846 - val_accuracy: 0.4533 - val_loss: 1.9506 - learning_rate: 0.0010\n",
            "Epoch 11/50\n",
            "\u001b[1m75/75\u001b[0m \u001b[32m━━━━━━━━━━━━━━━━━━━━\u001b[0m\u001b[37m\u001b[0m \u001b[1m10s\u001b[0m 131ms/step - accuracy: 0.7566 - loss: 0.9461 - val_accuracy: 0.4700 - val_loss: 1.8575 - learning_rate: 0.0010\n",
            "Epoch 12/50\n",
            "\u001b[1m75/75\u001b[0m \u001b[32m━━━━━━━━━━━━━━━━━━━━\u001b[0m\u001b[37m\u001b[0m \u001b[1m10s\u001b[0m 131ms/step - accuracy: 0.7742 - loss: 0.8938 - val_accuracy: 0.5017 - val_loss: 1.5817 - learning_rate: 5.0000e-04\n",
            "Epoch 13/50\n",
            "\u001b[1m75/75\u001b[0m \u001b[32m━━━━━━━━━━━━━━━━━━━━\u001b[0m\u001b[37m\u001b[0m \u001b[1m10s\u001b[0m 132ms/step - accuracy: 0.7840 - loss: 0.8528 - val_accuracy: 0.4867 - val_loss: 1.7377 - learning_rate: 5.0000e-04\n",
            "Epoch 14/50\n",
            "\u001b[1m75/75\u001b[0m \u001b[32m━━━━━━━━━━━━━━━━━━━━\u001b[0m\u001b[37m\u001b[0m \u001b[1m10s\u001b[0m 132ms/step - accuracy: 0.7878 - loss: 0.8360 - val_accuracy: 0.4767 - val_loss: 1.7920 - learning_rate: 5.0000e-04\n",
            "Epoch 15/50\n",
            "\u001b[1m75/75\u001b[0m \u001b[32m━━━━━━━━━━━━━━━━━━━━\u001b[0m\u001b[37m\u001b[0m \u001b[1m10s\u001b[0m 131ms/step - accuracy: 0.7901 - loss: 0.8205 - val_accuracy: 0.4633 - val_loss: 1.8864 - learning_rate: 5.0000e-04\n",
            "Epoch 16/50\n",
            "\u001b[1m75/75\u001b[0m \u001b[32m━━━━━━━━━━━━━━━━━━━━\u001b[0m\u001b[37m\u001b[0m \u001b[1m10s\u001b[0m 131ms/step - accuracy: 0.7968 - loss: 0.7922 - val_accuracy: 0.6917 - val_loss: 0.9692 - learning_rate: 2.5000e-04\n",
            "Epoch 17/50\n",
            "\u001b[1m75/75\u001b[0m \u001b[32m━━━━━━━━━━━━━━━━━━━━\u001b[0m\u001b[37m\u001b[0m \u001b[1m10s\u001b[0m 131ms/step - accuracy: 0.8083 - loss: 0.7700 - val_accuracy: 0.7033 - val_loss: 0.9452 - learning_rate: 2.5000e-04\n",
            "Epoch 18/50\n",
            "\u001b[1m75/75\u001b[0m \u001b[32m━━━━━━━━━━━━━━━━━━━━\u001b[0m\u001b[37m\u001b[0m \u001b[1m10s\u001b[0m 133ms/step - accuracy: 0.8160 - loss: 0.7607 - val_accuracy: 0.7150 - val_loss: 0.9263 - learning_rate: 2.5000e-04\n",
            "Epoch 19/50\n",
            "\u001b[1m75/75\u001b[0m \u001b[32m━━━━━━━━━━━━━━━━━━━━\u001b[0m\u001b[37m\u001b[0m \u001b[1m10s\u001b[0m 131ms/step - accuracy: 0.8182 - loss: 0.7522 - val_accuracy: 0.7150 - val_loss: 0.9310 - learning_rate: 2.5000e-04\n",
            "Epoch 20/50\n",
            "\u001b[1m75/75\u001b[0m \u001b[32m━━━━━━━━━━━━━━━━━━━━\u001b[0m\u001b[37m\u001b[0m \u001b[1m10s\u001b[0m 131ms/step - accuracy: 0.8186 - loss: 0.7442 - val_accuracy: 0.7200 - val_loss: 0.9230 - learning_rate: 2.5000e-04\n",
            "Epoch 21/50\n",
            "\u001b[1m75/75\u001b[0m \u001b[32m━━━━━━━━━━━━━━━━━━━━\u001b[0m\u001b[37m\u001b[0m \u001b[1m10s\u001b[0m 138ms/step - accuracy: 0.8212 - loss: 0.7369 - val_accuracy: 0.7250 - val_loss: 0.9266 - learning_rate: 2.5000e-04\n",
            "Epoch 22/50\n",
            "\u001b[1m75/75\u001b[0m \u001b[32m━━━━━━━━━━━━━━━━━━━━\u001b[0m\u001b[37m\u001b[0m \u001b[1m10s\u001b[0m 131ms/step - accuracy: 0.8201 - loss: 0.7297 - val_accuracy: 0.7300 - val_loss: 0.9216 - learning_rate: 2.5000e-04\n",
            "Epoch 23/50\n",
            "\u001b[1m75/75\u001b[0m \u001b[32m━━━━━━━━━━━━━━━━━━━━\u001b[0m\u001b[37m\u001b[0m \u001b[1m10s\u001b[0m 131ms/step - accuracy: 0.8225 - loss: 0.7230 - val_accuracy: 0.7333 - val_loss: 0.9205 - learning_rate: 2.5000e-04\n",
            "Epoch 24/50\n",
            "\u001b[1m75/75\u001b[0m \u001b[32m━━━━━━━━━━━━━━━━━━━━\u001b[0m\u001b[37m\u001b[0m \u001b[1m10s\u001b[0m 131ms/step - accuracy: 0.8235 - loss: 0.7162 - val_accuracy: 0.7300 - val_loss: 0.9156 - learning_rate: 2.5000e-04\n",
            "Epoch 25/50\n",
            "\u001b[1m75/75\u001b[0m \u001b[32m━━━━━━━━━━━━━━━━━━━━\u001b[0m\u001b[37m\u001b[0m \u001b[1m10s\u001b[0m 130ms/step - accuracy: 0.8264 - loss: 0.7100 - val_accuracy: 0.7317 - val_loss: 0.9164 - learning_rate: 2.5000e-04\n",
            "Epoch 26/50\n",
            "\u001b[1m75/75\u001b[0m \u001b[32m━━━━━━━━━━━━━━━━━━━━\u001b[0m\u001b[37m\u001b[0m \u001b[1m10s\u001b[0m 131ms/step - accuracy: 0.8285 - loss: 0.7038 - val_accuracy: 0.7300 - val_loss: 0.9093 - learning_rate: 2.5000e-04\n",
            "Epoch 27/50\n",
            "\u001b[1m75/75\u001b[0m \u001b[32m━━━━━━━━━━━━━━━━━━━━\u001b[0m\u001b[37m\u001b[0m \u001b[1m10s\u001b[0m 137ms/step - accuracy: 0.8310 - loss: 0.6978 - val_accuracy: 0.7283 - val_loss: 0.9021 - learning_rate: 2.5000e-04\n",
            "Epoch 28/50\n",
            "\u001b[1m75/75\u001b[0m \u001b[32m━━━━━━━━━━━━━━━━━━━━\u001b[0m\u001b[37m\u001b[0m \u001b[1m10s\u001b[0m 130ms/step - accuracy: 0.8333 - loss: 0.6918 - val_accuracy: 0.7333 - val_loss: 0.8995 - learning_rate: 2.5000e-04\n",
            "Epoch 29/50\n",
            "\u001b[1m75/75\u001b[0m \u001b[32m━━━━━━━━━━━━━━━━━━━━\u001b[0m\u001b[37m\u001b[0m \u001b[1m10s\u001b[0m 131ms/step - accuracy: 0.8334 - loss: 0.6861 - val_accuracy: 0.7350 - val_loss: 0.9008 - learning_rate: 2.5000e-04\n",
            "Epoch 30/50\n",
            "\u001b[1m75/75\u001b[0m \u001b[32m━━━━━━━━━━━━━━━━━━━━\u001b[0m\u001b[37m\u001b[0m \u001b[1m10s\u001b[0m 132ms/step - accuracy: 0.8345 - loss: 0.6806 - val_accuracy: 0.7350 - val_loss: 0.8949 - learning_rate: 2.5000e-04\n",
            "Epoch 31/50\n",
            "\u001b[1m75/75\u001b[0m \u001b[32m━━━━━━━━━━━━━━━━━━━━\u001b[0m\u001b[37m\u001b[0m \u001b[1m10s\u001b[0m 131ms/step - accuracy: 0.8358 - loss: 0.6753 - val_accuracy: 0.7250 - val_loss: 0.8967 - learning_rate: 2.5000e-04\n",
            "Epoch 32/50\n",
            "\u001b[1m75/75\u001b[0m \u001b[32m━━━━━━━━━━━━━━━━━━━━\u001b[0m\u001b[37m\u001b[0m \u001b[1m10s\u001b[0m 131ms/step - accuracy: 0.8389 - loss: 0.6700 - val_accuracy: 0.7300 - val_loss: 0.8908 - learning_rate: 2.5000e-04\n",
            "Epoch 33/50\n",
            "\u001b[1m75/75\u001b[0m \u001b[32m━━━━━━━━━━━━━━━━━━━━\u001b[0m\u001b[37m\u001b[0m \u001b[1m10s\u001b[0m 132ms/step - accuracy: 0.8378 - loss: 0.6651 - val_accuracy: 0.7300 - val_loss: 0.8808 - learning_rate: 2.5000e-04\n",
            "Epoch 34/50\n",
            "\u001b[1m75/75\u001b[0m \u001b[32m━━━━━━━━━━━━━━━━━━━━\u001b[0m\u001b[37m\u001b[0m \u001b[1m10s\u001b[0m 130ms/step - accuracy: 0.8409 - loss: 0.6601 - val_accuracy: 0.7283 - val_loss: 0.8777 - learning_rate: 2.5000e-04\n",
            "Epoch 35/50\n",
            "\u001b[1m75/75\u001b[0m \u001b[32m━━━━━━━━━━━━━━━━━━━━\u001b[0m\u001b[37m\u001b[0m \u001b[1m10s\u001b[0m 131ms/step - accuracy: 0.8434 - loss: 0.6554 - val_accuracy: 0.7333 - val_loss: 0.8611 - learning_rate: 2.5000e-04\n",
            "Epoch 36/50\n",
            "\u001b[1m75/75\u001b[0m \u001b[32m━━━━━━━━━━━━━━━━━━━━\u001b[0m\u001b[37m\u001b[0m \u001b[1m10s\u001b[0m 131ms/step - accuracy: 0.8428 - loss: 0.6506 - val_accuracy: 0.7350 - val_loss: 0.8598 - learning_rate: 2.5000e-04\n",
            "Epoch 37/50\n",
            "\u001b[1m75/75\u001b[0m \u001b[32m━━━━━━━━━━━━━━━━━━━━\u001b[0m\u001b[37m\u001b[0m \u001b[1m10s\u001b[0m 130ms/step - accuracy: 0.8444 - loss: 0.6462 - val_accuracy: 0.7367 - val_loss: 0.8445 - learning_rate: 2.5000e-04\n",
            "Epoch 38/50\n",
            "\u001b[1m75/75\u001b[0m \u001b[32m━━━━━━━━━━━━━━━━━━━━\u001b[0m\u001b[37m\u001b[0m \u001b[1m10s\u001b[0m 131ms/step - accuracy: 0.8449 - loss: 0.6419 - val_accuracy: 0.7367 - val_loss: 0.8401 - learning_rate: 2.5000e-04\n",
            "Epoch 39/50\n",
            "\u001b[1m75/75\u001b[0m \u001b[32m━━━━━━━━━━━━━━━━━━━━\u001b[0m\u001b[37m\u001b[0m \u001b[1m10s\u001b[0m 132ms/step - accuracy: 0.8469 - loss: 0.6375 - val_accuracy: 0.7367 - val_loss: 0.8259 - learning_rate: 2.5000e-04\n",
            "Epoch 40/50\n",
            "\u001b[1m75/75\u001b[0m \u001b[32m━━━━━━━━━━━━━━━━━━━━\u001b[0m\u001b[37m\u001b[0m \u001b[1m10s\u001b[0m 130ms/step - accuracy: 0.8487 - loss: 0.6331 - val_accuracy: 0.7400 - val_loss: 0.8288 - learning_rate: 2.5000e-04\n",
            "Epoch 41/50\n",
            "\u001b[1m75/75\u001b[0m \u001b[32m━━━━━━━━━━━━━━━━━━━━\u001b[0m\u001b[37m\u001b[0m \u001b[1m10s\u001b[0m 130ms/step - accuracy: 0.8492 - loss: 0.6291 - val_accuracy: 0.7400 - val_loss: 0.8176 - learning_rate: 2.5000e-04\n",
            "Epoch 42/50\n",
            "\u001b[1m75/75\u001b[0m \u001b[32m━━━━━━━━━━━━━━━━━━━━\u001b[0m\u001b[37m\u001b[0m \u001b[1m10s\u001b[0m 130ms/step - accuracy: 0.8494 - loss: 0.6251 - val_accuracy: 0.7383 - val_loss: 0.8181 - learning_rate: 2.5000e-04\n",
            "Epoch 43/50\n",
            "\u001b[1m75/75\u001b[0m \u001b[32m━━━━━━━━━━━━━━━━━━━━\u001b[0m\u001b[37m\u001b[0m \u001b[1m10s\u001b[0m 131ms/step - accuracy: 0.8504 - loss: 0.6212 - val_accuracy: 0.7383 - val_loss: 0.8169 - learning_rate: 2.5000e-04\n",
            "Epoch 44/50\n",
            "\u001b[1m75/75\u001b[0m \u001b[32m━━━━━━━━━━━━━━━━━━━━\u001b[0m\u001b[37m\u001b[0m \u001b[1m10s\u001b[0m 131ms/step - accuracy: 0.8514 - loss: 0.6174 - val_accuracy: 0.7367 - val_loss: 0.8124 - learning_rate: 2.5000e-04\n",
            "Epoch 45/50\n",
            "\u001b[1m75/75\u001b[0m \u001b[32m━━━━━━━━━━━━━━━━━━━━\u001b[0m\u001b[37m\u001b[0m \u001b[1m10s\u001b[0m 132ms/step - accuracy: 0.8518 - loss: 0.6136 - val_accuracy: 0.7417 - val_loss: 0.8097 - learning_rate: 2.5000e-04\n",
            "Epoch 46/50\n",
            "\u001b[1m75/75\u001b[0m \u001b[32m━━━━━━━━━━━━━━━━━━━━\u001b[0m\u001b[37m\u001b[0m \u001b[1m10s\u001b[0m 130ms/step - accuracy: 0.8528 - loss: 0.6098 - val_accuracy: 0.7400 - val_loss: 0.8079 - learning_rate: 2.5000e-04\n",
            "Epoch 47/50\n",
            "\u001b[1m75/75\u001b[0m \u001b[32m━━━━━━━━━━━━━━━━━━━━\u001b[0m\u001b[37m\u001b[0m \u001b[1m10s\u001b[0m 131ms/step - accuracy: 0.8553 - loss: 0.6063 - val_accuracy: 0.7367 - val_loss: 0.8084 - learning_rate: 2.5000e-04\n",
            "Epoch 48/50\n",
            "\u001b[1m75/75\u001b[0m \u001b[32m━━━━━━━━━━━━━━━━━━━━\u001b[0m\u001b[37m\u001b[0m \u001b[1m10s\u001b[0m 131ms/step - accuracy: 0.8565 - loss: 0.6027 - val_accuracy: 0.7383 - val_loss: 0.8063 - learning_rate: 2.5000e-04\n",
            "Epoch 49/50\n",
            "\u001b[1m75/75\u001b[0m \u001b[32m━━━━━━━━━━━━━━━━━━━━\u001b[0m\u001b[37m\u001b[0m \u001b[1m10s\u001b[0m 130ms/step - accuracy: 0.8566 - loss: 0.5993 - val_accuracy: 0.7400 - val_loss: 0.7998 - learning_rate: 2.5000e-04\n",
            "Epoch 50/50\n",
            "\u001b[1m75/75\u001b[0m \u001b[32m━━━━━━━━━━━━━━━━━━━━\u001b[0m\u001b[37m\u001b[0m \u001b[1m10s\u001b[0m 130ms/step - accuracy: 0.8593 - loss: 0.5957 - val_accuracy: 0.7400 - val_loss: 0.7975 - learning_rate: 2.5000e-04\n"
          ]
        }
      ]
    },
    {
      "cell_type": "markdown",
      "source": [
        "از این تابع برای اندازه گیری اب وان اسکور - خطا - دقت- ماتریس درهم رختگی استفاده میشود."
      ],
      "metadata": {
        "id": "wky_bnTP8Acb"
      }
    },
    {
      "cell_type": "code",
      "source": [
        "def caluclate_measures(norm):\n",
        "  y_pred_probs = []\n",
        "  y_true = []\n",
        "  if not norm:\n",
        "    for x, y in unnorm_test_dataset:  # Iterate over the TensorFlow Dataset\n",
        "      y_pred_batch_probs = model.predict(x)  # Predict probabilities for the current batch\n",
        "      y_pred_probs.extend(y_pred_batch_probs)  # Append the batch predictions\n",
        "      y_true.extend(y.numpy())  # Append the true labels\n",
        "    loss = model.evaluate(unnorm_test_dataset, verbose=0)[0] # Loss from evaluate function\n",
        "    # y_pred = np.argmax(y_pred_probs, axis=1)  # Predicted labels\n",
        "    # y_true = np.argmax(y_true, axis=1)  # True labels (convert one-hot to class labels)\n",
        "  else:\n",
        "    for x, y in norm_test_dataset:  # Iterate over the TensorFlow Dataset\n",
        "      y_pred_batch_probs = model.predict(x)  # Predict probabilities for the current batch\n",
        "      y_pred_probs.extend(y_pred_batch_probs)  # Append the batch predictions\n",
        "      y_true.extend(y.numpy())  # Append the true labels\n",
        "    loss = model.evaluate(norm_test_dataset, verbose=0)[0] # Loss from evaluate function\n",
        "  y_pred = np.argmax(y_pred_probs, axis=1)  # Predicted labels\n",
        "  y_true = np.argmax(y_true, axis=1)  # True labels (convert one-hot to class labels)\n",
        "  f1 = f1_score(y_true, y_pred, average='macro')\n",
        "  precision = precision_score(y_true, y_pred, average='macro')\n",
        "  recall = recall_score(y_true, y_pred, average='macro')\n",
        "  cm = confusion_matrix(y_true, y_pred)\n",
        "  accuracy = tf.keras.metrics.Accuracy()(y_true, y_pred).numpy()\n",
        "  yield y_pred\n",
        "  yield y_true\n",
        "  yield accuracy\n",
        "  yield loss\n",
        "  yield f1\n",
        "  yield precision\n",
        "  yield recall\n",
        "  yield cm"
      ],
      "metadata": {
        "id": "iuPMoTjzhl7d"
      },
      "execution_count": null,
      "outputs": []
    },
    {
      "cell_type": "code",
      "source": [
        "unnorm_data_test_y_pred, unnorm_data_test_y_true, unnorm_data_test_accuracy, unnorm_data_test_loss, unnorm_data_test_f1, unnorm_data_test_precision, unnorm_data_test_recall, unnorm_data_test_cm = caluclate_measures(0)"
      ],
      "metadata": {
        "id": "MRDmS3ebeZoK",
        "colab": {
          "base_uri": "https://localhost:8080/"
        },
        "outputId": "96e4c5d7-f96f-4ab6-b1d7-fcae669a155c"
      },
      "execution_count": null,
      "outputs": [
        {
          "output_type": "stream",
          "name": "stdout",
          "text": [
            "\u001b[1m1/1\u001b[0m \u001b[32m━━━━━━━━━━━━━━━━━━━━\u001b[0m\u001b[37m\u001b[0m \u001b[1m0s\u001b[0m 429ms/step\n",
            "\u001b[1m1/1\u001b[0m \u001b[32m━━━━━━━━━━━━━━━━━━━━\u001b[0m\u001b[37m\u001b[0m \u001b[1m0s\u001b[0m 439ms/step\n",
            "\u001b[1m1/1\u001b[0m \u001b[32m━━━━━━━━━━━━━━━━━━━━\u001b[0m\u001b[37m\u001b[0m \u001b[1m0s\u001b[0m 316ms/step\n",
            "\u001b[1m1/1\u001b[0m \u001b[32m━━━━━━━━━━━━━━━━━━━━\u001b[0m\u001b[37m\u001b[0m \u001b[1m0s\u001b[0m 332ms/step\n",
            "\u001b[1m1/1\u001b[0m \u001b[32m━━━━━━━━━━━━━━━━━━━━\u001b[0m\u001b[37m\u001b[0m \u001b[1m0s\u001b[0m 343ms/step\n",
            "\u001b[1m1/1\u001b[0m \u001b[32m━━━━━━━━━━━━━━━━━━━━\u001b[0m\u001b[37m\u001b[0m \u001b[1m0s\u001b[0m 357ms/step\n",
            "\u001b[1m1/1\u001b[0m \u001b[32m━━━━━━━━━━━━━━━━━━━━\u001b[0m\u001b[37m\u001b[0m \u001b[1m0s\u001b[0m 73ms/step\n",
            "\u001b[1m1/1\u001b[0m \u001b[32m━━━━━━━━━━━━━━━━━━━━\u001b[0m\u001b[37m\u001b[0m \u001b[1m0s\u001b[0m 70ms/step\n",
            "\u001b[1m1/1\u001b[0m \u001b[32m━━━━━━━━━━━━━━━━━━━━\u001b[0m\u001b[37m\u001b[0m \u001b[1m0s\u001b[0m 346ms/step\n",
            "\u001b[1m1/1\u001b[0m \u001b[32m━━━━━━━━━━━━━━━━━━━━\u001b[0m\u001b[37m\u001b[0m \u001b[1m0s\u001b[0m 71ms/step\n",
            "\u001b[1m1/1\u001b[0m \u001b[32m━━━━━━━━━━━━━━━━━━━━\u001b[0m\u001b[37m\u001b[0m \u001b[1m0s\u001b[0m 75ms/step\n",
            "\u001b[1m1/1\u001b[0m \u001b[32m━━━━━━━━━━━━━━━━━━━━\u001b[0m\u001b[37m\u001b[0m \u001b[1m0s\u001b[0m 71ms/step\n",
            "\u001b[1m1/1\u001b[0m \u001b[32m━━━━━━━━━━━━━━━━━━━━\u001b[0m\u001b[37m\u001b[0m \u001b[1m0s\u001b[0m 331ms/step\n",
            "\u001b[1m1/1\u001b[0m \u001b[32m━━━━━━━━━━━━━━━━━━━━\u001b[0m\u001b[37m\u001b[0m \u001b[1m0s\u001b[0m 330ms/step\n",
            "\u001b[1m1/1\u001b[0m \u001b[32m━━━━━━━━━━━━━━━━━━━━\u001b[0m\u001b[37m\u001b[0m \u001b[1m0s\u001b[0m 73ms/step\n",
            "\u001b[1m1/1\u001b[0m \u001b[32m━━━━━━━━━━━━━━━━━━━━\u001b[0m\u001b[37m\u001b[0m \u001b[1m0s\u001b[0m 71ms/step\n",
            "\u001b[1m1/1\u001b[0m \u001b[32m━━━━━━━━━━━━━━━━━━━━\u001b[0m\u001b[37m\u001b[0m \u001b[1m0s\u001b[0m 343ms/step\n",
            "\u001b[1m1/1\u001b[0m \u001b[32m━━━━━━━━━━━━━━━━━━━━\u001b[0m\u001b[37m\u001b[0m \u001b[1m0s\u001b[0m 72ms/step\n",
            "\u001b[1m1/1\u001b[0m \u001b[32m━━━━━━━━━━━━━━━━━━━━\u001b[0m\u001b[37m\u001b[0m \u001b[1m0s\u001b[0m 429ms/step\n"
          ]
        }
      ]
    },
    {
      "cell_type": "markdown",
      "source": [
        "چاپ نتایح بدست امده"
      ],
      "metadata": {
        "id": "9aurIRRF8UuK"
      }
    },
    {
      "cell_type": "code",
      "source": [
        "print(f\"Test Loss: {unnorm_data_test_loss}\")\n",
        "print(f\"Test Accuracy: {unnorm_data_test_accuracy}\")\n",
        "print(f\"F1-score: {unnorm_data_test_f1}\")\n",
        "print(f\"Precision: {unnorm_data_test_precision}\")\n",
        "print(f\"Recall: {unnorm_data_test_recall}\")\n",
        "print(\"Confusion Matrix:\")\n",
        "print(unnorm_data_test_cm)"
      ],
      "metadata": {
        "colab": {
          "base_uri": "https://localhost:8080/"
        },
        "id": "qLE1xakXieL_",
        "outputId": "b1dc4cf5-86ac-452a-e79b-344a25f0c4ee"
      },
      "execution_count": null,
      "outputs": [
        {
          "output_type": "stream",
          "name": "stdout",
          "text": [
            "Test Loss: 0.7974700331687927\n",
            "Test Accuracy: 0.7400000095367432\n",
            "F1-score: 0.7250076485861414\n",
            "Precision: 0.8012193550661199\n",
            "Recall: 0.7408800618464297\n",
            "Confusion Matrix:\n",
            "[[51  5  2  0  0  0  1  1  0  0]\n",
            " [ 1 39  1  0  3  0 14  3  0  0]\n",
            " [ 0  0 61  0  0  0  3  1  2  0]\n",
            " [ 9  9  0 17  0  0 11 12  0  2]\n",
            " [ 0  8  0  0 45  1  2  0  0  0]\n",
            " [ 5  1  0  0  1 52  0  3  0  0]\n",
            " [ 0  0  0  0  0  0 52  0  0  0]\n",
            " [ 1  0  0  0  0  4  5 56  0  0]\n",
            " [ 0  0  4  0  0  0  0  0 53  0]\n",
            " [ 1 16  3  0  0  0 20  1  0 18]]\n"
          ]
        }
      ]
    },
    {
      "cell_type": "markdown",
      "source": [
        "حال دادگان نرمال سازی شده را در ۵۰ دور اموزش میدهیم."
      ],
      "metadata": {
        "id": "W4QMqwt28XwK"
      }
    },
    {
      "cell_type": "code",
      "source": [
        "plt.figure(figsize=(10, 8))\n",
        "sns.heatmap(unnorm_data_test_cm, annot=True, fmt='d', cmap='Blues',\n",
        "            xticklabels=np.unique(unnorm_data_test_y_true), yticklabels=np.unique(unnorm_data_test_y_pred)) # set labels\n",
        "plt.xlabel('Predicted Label')\n",
        "plt.ylabel('True Label')\n",
        "plt.title('Confusion Matrix')\n",
        "plt.show()"
      ],
      "metadata": {
        "colab": {
          "base_uri": "https://localhost:8080/",
          "height": 718
        },
        "id": "mW28CP0UBB_C",
        "outputId": "2d1e5ced-ab81-467e-c605-639f7602996a"
      },
      "execution_count": null,
      "outputs": [
        {
          "output_type": "display_data",
          "data": {
            "text/plain": [
              "<Figure size 1000x800 with 2 Axes>"
            ],
            "image/png": "[encoded data removed]"
          },
          "metadata": {}
        }
      ]
    },
    {
      "cell_type": "code",
      "source": [
        "normalized_data_train_history = model.fit(\n",
        "    norm_train_dataset,\n",
        "    epochs=50,\n",
        "    validation_data=norm_test_dataset,\n",
        "    callbacks=[early_stopping, reduce_lr]  # Add the callback here\n",
        "    )  # Adjust epochs and batch size as needed"
      ],
      "metadata": {
        "id": "hRxzuoBb6rHi",
        "colab": {
          "base_uri": "https://localhost:8080/"
        },
        "outputId": "edce287b-8f6b-45a1-807e-0e26a7f05789"
      },
      "execution_count": null,
      "outputs": [
        {
          "output_type": "stream",
          "name": "stdout",
          "text": [
            "Epoch 1/50\n",
            "     75/Unknown \u001b[1m9s\u001b[0m 123ms/step - accuracy: 0.6460 - loss: 1.2051"
          ]
        },
        {
          "output_type": "stream",
          "name": "stderr",
          "text": [
            "/usr/local/lib/python3.11/dist-packages/keras/src/trainers/epoch_iterator.py:151: UserWarning: Your input ran out of data; interrupting training. Make sure that your dataset or generator can generate at least `steps_per_epoch * epochs` batches. You may need to use the `.repeat()` function when building your dataset.\n",
            "  self._interrupted_warning()\n"
          ]
        },
        {
          "output_type": "stream",
          "name": "stdout",
          "text": [
            "\b\b\b\b\b\b\b\b\b\b\b\b\b\b\b\b\b\b\b\b\b\b\b\b\b\b\b\b\b\b\b\b\b\b\b\b\b\b\b\b\b\b\b\b\b\b\b\b\b\b\b\b\b\b\b\b\b\b\b\b\b\b\b\r\u001b[1m75/75\u001b[0m \u001b[32m━━━━━━━━━━━━━━━━━━━━\u001b[0m\u001b[37m\u001b[0m \u001b[1m10s\u001b[0m 131ms/step - accuracy: 0.6468 - loss: 1.2028 - val_accuracy: 0.0933 - val_loss: 16.3474 - learning_rate: 2.5000e-04\n",
            "Epoch 2/50\n",
            "\u001b[1m75/75\u001b[0m \u001b[32m━━━━━━━━━━━━━━━━━━━━\u001b[0m\u001b[37m\u001b[0m \u001b[1m10s\u001b[0m 132ms/step - accuracy: 0.7792 - loss: 0.8100 - val_accuracy: 0.0933 - val_loss: 12.0909 - learning_rate: 2.5000e-04\n",
            "Epoch 3/50\n",
            "\u001b[1m75/75\u001b[0m \u001b[32m━━━━━━━━━━━━━━━━━━━━\u001b[0m\u001b[37m\u001b[0m \u001b[1m10s\u001b[0m 131ms/step - accuracy: 0.8020 - loss: 0.7541 - val_accuracy: 0.1150 - val_loss: 7.7114 - learning_rate: 2.5000e-04\n",
            "Epoch 4/50\n",
            "\u001b[1m75/75\u001b[0m \u001b[32m━━━━━━━━━━━━━━━━━━━━\u001b[0m\u001b[37m\u001b[0m \u001b[1m10s\u001b[0m 132ms/step - accuracy: 0.8163 - loss: 0.7258 - val_accuracy: 0.2183 - val_loss: 3.9719 - learning_rate: 2.5000e-04\n",
            "Epoch 5/50\n",
            "\u001b[1m75/75\u001b[0m \u001b[32m━━━━━━━━━━━━━━━━━━━━\u001b[0m\u001b[37m\u001b[0m \u001b[1m10s\u001b[0m 138ms/step - accuracy: 0.8215 - loss: 0.7068 - val_accuracy: 0.4017 - val_loss: 1.9775 - learning_rate: 2.5000e-04\n",
            "Epoch 6/50\n",
            "\u001b[1m75/75\u001b[0m \u001b[32m━━━━━━━━━━━━━━━━━━━━\u001b[0m\u001b[37m\u001b[0m \u001b[1m10s\u001b[0m 130ms/step - accuracy: 0.8270 - loss: 0.6920 - val_accuracy: 0.5800 - val_loss: 1.2035 - learning_rate: 2.5000e-04\n",
            "Epoch 7/50\n",
            "\u001b[1m75/75\u001b[0m \u001b[32m━━━━━━━━━━━━━━━━━━━━\u001b[0m\u001b[37m\u001b[0m \u001b[1m10s\u001b[0m 130ms/step - accuracy: 0.8305 - loss: 0.6799 - val_accuracy: 0.7350 - val_loss: 0.9064 - learning_rate: 2.5000e-04\n",
            "Epoch 8/50\n",
            "\u001b[1m75/75\u001b[0m \u001b[32m━━━━━━━━━━━━━━━━━━━━\u001b[0m\u001b[37m\u001b[0m \u001b[1m10s\u001b[0m 131ms/step - accuracy: 0.8353 - loss: 0.6697 - val_accuracy: 0.7800 - val_loss: 0.8055 - learning_rate: 2.5000e-04\n",
            "Epoch 9/50\n",
            "\u001b[1m75/75\u001b[0m \u001b[32m━━━━━━━━━━━━━━━━━━━━\u001b[0m\u001b[37m\u001b[0m \u001b[1m10s\u001b[0m 131ms/step - accuracy: 0.8394 - loss: 0.6608 - val_accuracy: 0.7750 - val_loss: 0.7793 - learning_rate: 2.5000e-04\n",
            "Epoch 10/50\n",
            "\u001b[1m75/75\u001b[0m \u001b[32m━━━━━━━━━━━━━━━━━━━━\u001b[0m\u001b[37m\u001b[0m \u001b[1m10s\u001b[0m 136ms/step - accuracy: 0.8411 - loss: 0.6527 - val_accuracy: 0.7600 - val_loss: 0.7751 - learning_rate: 2.5000e-04\n",
            "Epoch 11/50\n",
            "\u001b[1m75/75\u001b[0m \u001b[32m━━━━━━━━━━━━━━━━━━━━\u001b[0m\u001b[37m\u001b[0m \u001b[1m10s\u001b[0m 136ms/step - accuracy: 0.8472 - loss: 0.6452 - val_accuracy: 0.7550 - val_loss: 0.7755 - learning_rate: 2.5000e-04\n",
            "Epoch 12/50\n",
            "\u001b[1m75/75\u001b[0m \u001b[32m━━━━━━━━━━━━━━━━━━━━\u001b[0m\u001b[37m\u001b[0m \u001b[1m10s\u001b[0m 132ms/step - accuracy: 0.8499 - loss: 0.6383 - val_accuracy: 0.7533 - val_loss: 0.7739 - learning_rate: 2.5000e-04\n",
            "Epoch 13/50\n",
            "\u001b[1m75/75\u001b[0m \u001b[32m━━━━━━━━━━━━━━━━━━━━\u001b[0m\u001b[37m\u001b[0m \u001b[1m10s\u001b[0m 131ms/step - accuracy: 0.8533 - loss: 0.6319 - val_accuracy: 0.7567 - val_loss: 0.7701 - learning_rate: 2.5000e-04\n",
            "Epoch 14/50\n",
            "\u001b[1m75/75\u001b[0m \u001b[32m━━━━━━━━━━━━━━━━━━━━\u001b[0m\u001b[37m\u001b[0m \u001b[1m10s\u001b[0m 131ms/step - accuracy: 0.8574 - loss: 0.6260 - val_accuracy: 0.7567 - val_loss: 0.7703 - learning_rate: 2.5000e-04\n",
            "Epoch 15/50\n",
            "\u001b[1m75/75\u001b[0m \u001b[32m━━━━━━━━━━━━━━━━━━━━\u001b[0m\u001b[37m\u001b[0m \u001b[1m10s\u001b[0m 136ms/step - accuracy: 0.8608 - loss: 0.6204 - val_accuracy: 0.7617 - val_loss: 0.7682 - learning_rate: 2.5000e-04\n",
            "Epoch 16/50\n",
            "\u001b[1m75/75\u001b[0m \u001b[32m━━━━━━━━━━━━━━━━━━━━\u001b[0m\u001b[37m\u001b[0m \u001b[1m10s\u001b[0m 132ms/step - accuracy: 0.8606 - loss: 0.6152 - val_accuracy: 0.7600 - val_loss: 0.7681 - learning_rate: 2.5000e-04\n",
            "Epoch 17/50\n",
            "\u001b[1m75/75\u001b[0m \u001b[32m━━━━━━━━━━━━━━━━━━━━\u001b[0m\u001b[37m\u001b[0m \u001b[1m10s\u001b[0m 131ms/step - accuracy: 0.8628 - loss: 0.6101 - val_accuracy: 0.7617 - val_loss: 0.7626 - learning_rate: 2.5000e-04\n",
            "Epoch 18/50\n",
            "\u001b[1m75/75\u001b[0m \u001b[32m━━━━━━━━━━━━━━━━━━━━\u001b[0m\u001b[37m\u001b[0m \u001b[1m10s\u001b[0m 138ms/step - accuracy: 0.8637 - loss: 0.6053 - val_accuracy: 0.7600 - val_loss: 0.7608 - learning_rate: 2.5000e-04\n",
            "Epoch 19/50\n",
            "\u001b[1m75/75\u001b[0m \u001b[32m━━━━━━━━━━━━━━━━━━━━\u001b[0m\u001b[37m\u001b[0m \u001b[1m20s\u001b[0m 130ms/step - accuracy: 0.8666 - loss: 0.6008 - val_accuracy: 0.7633 - val_loss: 0.7574 - learning_rate: 2.5000e-04\n",
            "Epoch 20/50\n",
            "\u001b[1m75/75\u001b[0m \u001b[32m━━━━━━━━━━━━━━━━━━━━\u001b[0m\u001b[37m\u001b[0m \u001b[1m10s\u001b[0m 131ms/step - accuracy: 0.8675 - loss: 0.5964 - val_accuracy: 0.7617 - val_loss: 0.7549 - learning_rate: 2.5000e-04\n",
            "Epoch 21/50\n",
            "\u001b[1m75/75\u001b[0m \u001b[32m━━━━━━━━━━━━━━━━━━━━\u001b[0m\u001b[37m\u001b[0m \u001b[1m10s\u001b[0m 131ms/step - accuracy: 0.8686 - loss: 0.5921 - val_accuracy: 0.7650 - val_loss: 0.7529 - learning_rate: 2.5000e-04\n",
            "Epoch 22/50\n",
            "\u001b[1m75/75\u001b[0m \u001b[32m━━━━━━━━━━━━━━━━━━━━\u001b[0m\u001b[37m\u001b[0m \u001b[1m10s\u001b[0m 131ms/step - accuracy: 0.8683 - loss: 0.5880 - val_accuracy: 0.7667 - val_loss: 0.7477 - learning_rate: 2.5000e-04\n",
            "Epoch 23/50\n",
            "\u001b[1m75/75\u001b[0m \u001b[32m━━━━━━━━━━━━━━━━━━━━\u001b[0m\u001b[37m\u001b[0m \u001b[1m10s\u001b[0m 132ms/step - accuracy: 0.8705 - loss: 0.5840 - val_accuracy: 0.7700 - val_loss: 0.7427 - learning_rate: 2.5000e-04\n",
            "Epoch 24/50\n",
            "\u001b[1m75/75\u001b[0m \u001b[32m━━━━━━━━━━━━━━━━━━━━\u001b[0m\u001b[37m\u001b[0m \u001b[1m10s\u001b[0m 130ms/step - accuracy: 0.8709 - loss: 0.5801 - val_accuracy: 0.7783 - val_loss: 0.7363 - learning_rate: 2.5000e-04\n",
            "Epoch 25/50\n",
            "\u001b[1m75/75\u001b[0m \u001b[32m━━━━━━━━━━━━━━━━━━━━\u001b[0m\u001b[37m\u001b[0m \u001b[1m10s\u001b[0m 131ms/step - accuracy: 0.8710 - loss: 0.5762 - val_accuracy: 0.7800 - val_loss: 0.7284 - learning_rate: 2.5000e-04\n",
            "Epoch 26/50\n",
            "\u001b[1m75/75\u001b[0m \u001b[32m━━━━━━━━━━━━━━━━━━━━\u001b[0m\u001b[37m\u001b[0m \u001b[1m10s\u001b[0m 131ms/step - accuracy: 0.8717 - loss: 0.5725 - val_accuracy: 0.7800 - val_loss: 0.7224 - learning_rate: 2.5000e-04\n",
            "Epoch 27/50\n",
            "\u001b[1m75/75\u001b[0m \u001b[32m━━━━━━━━━━━━━━━━━━━━\u001b[0m\u001b[37m\u001b[0m \u001b[1m10s\u001b[0m 132ms/step - accuracy: 0.8725 - loss: 0.5688 - val_accuracy: 0.7833 - val_loss: 0.7188 - learning_rate: 2.5000e-04\n",
            "Epoch 28/50\n",
            "\u001b[1m75/75\u001b[0m \u001b[32m━━━━━━━━━━━━━━━━━━━━\u001b[0m\u001b[37m\u001b[0m \u001b[1m10s\u001b[0m 131ms/step - accuracy: 0.8734 - loss: 0.5651 - val_accuracy: 0.7850 - val_loss: 0.7193 - learning_rate: 2.5000e-04\n",
            "Epoch 29/50\n",
            "\u001b[1m75/75\u001b[0m \u001b[32m━━━━━━━━━━━━━━━━━━━━\u001b[0m\u001b[37m\u001b[0m \u001b[1m10s\u001b[0m 131ms/step - accuracy: 0.8755 - loss: 0.5617 - val_accuracy: 0.7867 - val_loss: 0.7130 - learning_rate: 2.5000e-04\n",
            "Epoch 30/50\n",
            "\u001b[1m75/75\u001b[0m \u001b[32m━━━━━━━━━━━━━━━━━━━━\u001b[0m\u001b[37m\u001b[0m \u001b[1m10s\u001b[0m 132ms/step - accuracy: 0.8751 - loss: 0.5582 - val_accuracy: 0.7883 - val_loss: 0.7096 - learning_rate: 2.5000e-04\n",
            "Epoch 31/50\n",
            "\u001b[1m75/75\u001b[0m \u001b[32m━━━━━━━━━━━━━━━━━━━━\u001b[0m\u001b[37m\u001b[0m \u001b[1m10s\u001b[0m 131ms/step - accuracy: 0.8753 - loss: 0.5549 - val_accuracy: 0.7950 - val_loss: 0.6987 - learning_rate: 2.5000e-04\n",
            "Epoch 32/50\n",
            "\u001b[1m75/75\u001b[0m \u001b[32m━━━━━━━━━━━━━━━━━━━━\u001b[0m\u001b[37m\u001b[0m \u001b[1m10s\u001b[0m 130ms/step - accuracy: 0.8767 - loss: 0.5516 - val_accuracy: 0.7950 - val_loss: 0.6956 - learning_rate: 2.5000e-04\n",
            "Epoch 33/50\n",
            "\u001b[1m75/75\u001b[0m \u001b[32m━━━━━━━━━━━━━━━━━━━━\u001b[0m\u001b[37m\u001b[0m \u001b[1m10s\u001b[0m 131ms/step - accuracy: 0.8770 - loss: 0.5483 - val_accuracy: 0.7950 - val_loss: 0.6939 - learning_rate: 2.5000e-04\n",
            "Epoch 34/50\n",
            "\u001b[1m75/75\u001b[0m \u001b[32m━━━━━━━━━━━━━━━━━━━━\u001b[0m\u001b[37m\u001b[0m \u001b[1m10s\u001b[0m 130ms/step - accuracy: 0.8772 - loss: 0.5451 - val_accuracy: 0.7933 - val_loss: 0.6897 - learning_rate: 2.5000e-04\n",
            "Epoch 35/50\n",
            "\u001b[1m75/75\u001b[0m \u001b[32m━━━━━━━━━━━━━━━━━━━━\u001b[0m\u001b[37m\u001b[0m \u001b[1m10s\u001b[0m 131ms/step - accuracy: 0.8783 - loss: 0.5421 - val_accuracy: 0.8000 - val_loss: 0.6836 - learning_rate: 2.5000e-04\n",
            "Epoch 36/50\n",
            "\u001b[1m75/75\u001b[0m \u001b[32m━━━━━━━━━━━━━━━━━━━━\u001b[0m\u001b[37m\u001b[0m \u001b[1m10s\u001b[0m 131ms/step - accuracy: 0.8802 - loss: 0.5391 - val_accuracy: 0.8000 - val_loss: 0.6814 - learning_rate: 2.5000e-04\n",
            "Epoch 37/50\n",
            "\u001b[1m75/75\u001b[0m \u001b[32m━━━━━━━━━━━━━━━━━━━━\u001b[0m\u001b[37m\u001b[0m \u001b[1m10s\u001b[0m 130ms/step - accuracy: 0.8810 - loss: 0.5362 - val_accuracy: 0.8000 - val_loss: 0.6771 - learning_rate: 2.5000e-04\n",
            "Epoch 38/50\n",
            "\u001b[1m75/75\u001b[0m \u001b[32m━━━━━━━━━━━━━━━━━━━━\u001b[0m\u001b[37m\u001b[0m \u001b[1m10s\u001b[0m 131ms/step - accuracy: 0.8814 - loss: 0.5333 - val_accuracy: 0.7983 - val_loss: 0.6752 - learning_rate: 2.5000e-04\n",
            "Epoch 39/50\n",
            "\u001b[1m75/75\u001b[0m \u001b[32m━━━━━━━━━━━━━━━━━━━━\u001b[0m\u001b[37m\u001b[0m \u001b[1m10s\u001b[0m 131ms/step - accuracy: 0.8830 - loss: 0.5304 - val_accuracy: 0.7967 - val_loss: 0.6771 - learning_rate: 2.5000e-04\n",
            "Epoch 40/50\n",
            "\u001b[1m75/75\u001b[0m \u001b[32m━━━━━━━━━━━━━━━━━━━━\u001b[0m\u001b[37m\u001b[0m \u001b[1m10s\u001b[0m 131ms/step - accuracy: 0.8846 - loss: 0.5275 - val_accuracy: 0.7967 - val_loss: 0.6744 - learning_rate: 2.5000e-04\n",
            "Epoch 41/50\n",
            "\u001b[1m75/75\u001b[0m \u001b[32m━━━━━━━━━━━━━━━━━━━━\u001b[0m\u001b[37m\u001b[0m \u001b[1m10s\u001b[0m 130ms/step - accuracy: 0.8850 - loss: 0.5249 - val_accuracy: 0.8000 - val_loss: 0.6753 - learning_rate: 2.5000e-04\n",
            "Epoch 42/50\n",
            "\u001b[1m75/75\u001b[0m \u001b[32m━━━━━━━━━━━━━━━━━━━━\u001b[0m\u001b[37m\u001b[0m \u001b[1m10s\u001b[0m 133ms/step - accuracy: 0.8873 - loss: 0.5222 - val_accuracy: 0.8000 - val_loss: 0.6736 - learning_rate: 2.5000e-04\n",
            "Epoch 43/50\n",
            "\u001b[1m75/75\u001b[0m \u001b[32m━━━━━━━━━━━━━━━━━━━━\u001b[0m\u001b[37m\u001b[0m \u001b[1m10s\u001b[0m 130ms/step - accuracy: 0.8885 - loss: 0.5196 - val_accuracy: 0.8000 - val_loss: 0.6700 - learning_rate: 2.5000e-04\n",
            "Epoch 44/50\n",
            "\u001b[1m75/75\u001b[0m \u001b[32m━━━━━━━━━━━━━━━━━━━━\u001b[0m\u001b[37m\u001b[0m \u001b[1m10s\u001b[0m 130ms/step - accuracy: 0.8913 - loss: 0.5170 - val_accuracy: 0.8017 - val_loss: 0.6691 - learning_rate: 2.5000e-04\n",
            "Epoch 45/50\n",
            "\u001b[1m75/75\u001b[0m \u001b[32m━━━━━━━━━━━━━━━━━━━━\u001b[0m\u001b[37m\u001b[0m \u001b[1m10s\u001b[0m 130ms/step - accuracy: 0.8921 - loss: 0.5144 - val_accuracy: 0.8000 - val_loss: 0.6671 - learning_rate: 2.5000e-04\n",
            "Epoch 46/50\n",
            "\u001b[1m75/75\u001b[0m \u001b[32m━━━━━━━━━━━━━━━━━━━━\u001b[0m\u001b[37m\u001b[0m \u001b[1m10s\u001b[0m 131ms/step - accuracy: 0.8921 - loss: 0.5118 - val_accuracy: 0.8017 - val_loss: 0.6669 - learning_rate: 2.5000e-04\n",
            "Epoch 47/50\n",
            "\u001b[1m75/75\u001b[0m \u001b[32m━━━━━━━━━━━━━━━━━━━━\u001b[0m\u001b[37m\u001b[0m \u001b[1m10s\u001b[0m 131ms/step - accuracy: 0.8927 - loss: 0.5093 - val_accuracy: 0.8050 - val_loss: 0.6626 - learning_rate: 2.5000e-04\n",
            "Epoch 48/50\n",
            "\u001b[1m75/75\u001b[0m \u001b[32m━━━━━━━━━━━━━━━━━━━━\u001b[0m\u001b[37m\u001b[0m \u001b[1m10s\u001b[0m 138ms/step - accuracy: 0.8934 - loss: 0.5067 - val_accuracy: 0.8017 - val_loss: 0.6643 - learning_rate: 2.5000e-04\n",
            "Epoch 49/50\n",
            "\u001b[1m75/75\u001b[0m \u001b[32m━━━━━━━━━━━━━━━━━━━━\u001b[0m\u001b[37m\u001b[0m \u001b[1m10s\u001b[0m 130ms/step - accuracy: 0.8934 - loss: 0.5042 - val_accuracy: 0.8033 - val_loss: 0.6623 - learning_rate: 2.5000e-04\n",
            "Epoch 50/50\n",
            "\u001b[1m75/75\u001b[0m \u001b[32m━━━━━━━━━━━━━━━━━━━━\u001b[0m\u001b[37m\u001b[0m \u001b[1m10s\u001b[0m 130ms/step - accuracy: 0.8943 - loss: 0.5018 - val_accuracy: 0.8033 - val_loss: 0.6590 - learning_rate: 2.5000e-04\n"
          ]
        }
      ]
    },
    {
      "cell_type": "code",
      "source": [
        "norm_data_test_y_pred, norm_data_test_y_true, norm_data_test_accuracy, norm_data_test_loss, norm_data_test_f1, norm_data_test_precision, norm_data_test_recall, norm_data_test_cm = caluclate_measures(1)"
      ],
      "metadata": {
        "id": "m_c8h8vbM7Xs",
        "colab": {
          "base_uri": "https://localhost:8080/"
        },
        "outputId": "2b2cb34b-0a73-4155-f8d4-db6d09e774c0"
      },
      "execution_count": null,
      "outputs": [
        {
          "output_type": "stream",
          "name": "stdout",
          "text": [
            "\u001b[1m1/1\u001b[0m \u001b[32m━━━━━━━━━━━━━━━━━━━━\u001b[0m\u001b[37m\u001b[0m \u001b[1m0s\u001b[0m 59ms/step\n",
            "\u001b[1m1/1\u001b[0m \u001b[32m━━━━━━━━━━━━━━━━━━━━\u001b[0m\u001b[37m\u001b[0m \u001b[1m0s\u001b[0m 60ms/step\n",
            "\u001b[1m1/1\u001b[0m \u001b[32m━━━━━━━━━━━━━━━━━━━━\u001b[0m\u001b[37m\u001b[0m \u001b[1m0s\u001b[0m 64ms/step\n",
            "\u001b[1m1/1\u001b[0m \u001b[32m━━━━━━━━━━━━━━━━━━━━\u001b[0m\u001b[37m\u001b[0m \u001b[1m0s\u001b[0m 57ms/step\n",
            "\u001b[1m1/1\u001b[0m \u001b[32m━━━━━━━━━━━━━━━━━━━━\u001b[0m\u001b[37m\u001b[0m \u001b[1m0s\u001b[0m 58ms/step\n",
            "\u001b[1m1/1\u001b[0m \u001b[32m━━━━━━━━━━━━━━━━━━━━\u001b[0m\u001b[37m\u001b[0m \u001b[1m0s\u001b[0m 57ms/step\n",
            "\u001b[1m1/1\u001b[0m \u001b[32m━━━━━━━━━━━━━━━━━━━━\u001b[0m\u001b[37m\u001b[0m \u001b[1m0s\u001b[0m 58ms/step\n",
            "\u001b[1m1/1\u001b[0m \u001b[32m━━━━━━━━━━━━━━━━━━━━\u001b[0m\u001b[37m\u001b[0m \u001b[1m0s\u001b[0m 64ms/step\n",
            "\u001b[1m1/1\u001b[0m \u001b[32m━━━━━━━━━━━━━━━━━━━━\u001b[0m\u001b[37m\u001b[0m \u001b[1m0s\u001b[0m 57ms/step\n",
            "\u001b[1m1/1\u001b[0m \u001b[32m━━━━━━━━━━━━━━━━━━━━\u001b[0m\u001b[37m\u001b[0m \u001b[1m0s\u001b[0m 60ms/step\n",
            "\u001b[1m1/1\u001b[0m \u001b[32m━━━━━━━━━━━━━━━━━━━━\u001b[0m\u001b[37m\u001b[0m \u001b[1m0s\u001b[0m 57ms/step\n",
            "\u001b[1m1/1\u001b[0m \u001b[32m━━━━━━━━━━━━━━━━━━━━\u001b[0m\u001b[37m\u001b[0m \u001b[1m0s\u001b[0m 62ms/step\n",
            "\u001b[1m1/1\u001b[0m \u001b[32m━━━━━━━━━━━━━━━━━━━━\u001b[0m\u001b[37m\u001b[0m \u001b[1m0s\u001b[0m 60ms/step\n",
            "\u001b[1m1/1\u001b[0m \u001b[32m━━━━━━━━━━━━━━━━━━━━\u001b[0m\u001b[37m\u001b[0m \u001b[1m0s\u001b[0m 57ms/step\n",
            "\u001b[1m1/1\u001b[0m \u001b[32m━━━━━━━━━━━━━━━━━━━━\u001b[0m\u001b[37m\u001b[0m \u001b[1m0s\u001b[0m 63ms/step\n",
            "\u001b[1m1/1\u001b[0m \u001b[32m━━━━━━━━━━━━━━━━━━━━\u001b[0m\u001b[37m\u001b[0m \u001b[1m0s\u001b[0m 71ms/step\n",
            "\u001b[1m1/1\u001b[0m \u001b[32m━━━━━━━━━━━━━━━━━━━━\u001b[0m\u001b[37m\u001b[0m \u001b[1m0s\u001b[0m 65ms/step\n",
            "\u001b[1m1/1\u001b[0m \u001b[32m━━━━━━━━━━━━━━━━━━━━\u001b[0m\u001b[37m\u001b[0m \u001b[1m0s\u001b[0m 64ms/step\n",
            "\u001b[1m1/1\u001b[0m \u001b[32m━━━━━━━━━━━━━━━━━━━━\u001b[0m\u001b[37m\u001b[0m \u001b[1m0s\u001b[0m 75ms/step\n"
          ]
        }
      ]
    },
    {
      "cell_type": "code",
      "source": [
        "print(f\"Test Loss: {norm_data_test_loss}\")\n",
        "print(f\"Test Accuracy: {norm_data_test_accuracy}\")\n",
        "print(f\"F1-score: {norm_data_test_f1}\")\n",
        "print(f\"Precision: {norm_data_test_precision}\")\n",
        "print(f\"Recall: {norm_data_test_recall}\")\n",
        "print(\"Confusion Matrix:\")\n",
        "print(norm_data_test_cm)"
      ],
      "metadata": {
        "colab": {
          "base_uri": "https://localhost:8080/"
        },
        "id": "C2H0Srzjng6p",
        "outputId": "e50c436d-0146-4aa0-85c2-c8c8ba8c107c"
      },
      "execution_count": null,
      "outputs": [
        {
          "output_type": "stream",
          "name": "stdout",
          "text": [
            "Test Loss: 0.6589935421943665\n",
            "Test Accuracy: 0.8033333420753479\n",
            "F1-score: 0.7981012931180658\n",
            "Precision: 0.8304732696812964\n",
            "Recall: 0.8045698389525512\n",
            "Confusion Matrix:\n",
            "[[52  1  2  0  0  0  3  2  0  0]\n",
            " [ 0 34  0  0  4  1 10  5  0  7]\n",
            " [ 0  0 66  0  0  0  0  1  0  0]\n",
            " [ 4 11  0 25  0  0  5 12  0  3]\n",
            " [ 0  1  0  0 54  0  1  0  0  0]\n",
            " [ 5  1  0  0  1 48  0  7  0  0]\n",
            " [ 0  0  0  0  0  0 50  2  0  0]\n",
            " [ 0  2  0  0  0  2  5 57  0  0]\n",
            " [ 0  0  8  0  0  0  0  0 49  0]\n",
            " [ 0  1  5  0  0  0  3  3  0 47]]\n"
          ]
        }
      ]
    },
    {
      "cell_type": "code",
      "source": [
        "plt.figure(figsize=(10, 8))\n",
        "sns.heatmap(norm_data_test_cm, annot=True, fmt='d', cmap='Blues',\n",
        "            xticklabels=np.unique(norm_data_test_y_true), yticklabels=np.unique(norm_data_test_y_pred)) # set labels\n",
        "plt.xlabel('Predicted Label')\n",
        "plt.ylabel('True Label')\n",
        "plt.title('Confusion Matrix')\n",
        "plt.show()"
      ],
      "metadata": {
        "colab": {
          "base_uri": "https://localhost:8080/",
          "height": 718
        },
        "id": "6d4jGsD1AAOD",
        "outputId": "0a2bc8e4-d7e3-4c75-9ce4-c7e860ef7508"
      },
      "execution_count": null,
      "outputs": [
        {
          "output_type": "display_data",
          "data": {
            "text/plain": [
              "<Figure size 1000x800 with 2 Axes>"
            ],
            "image/png": "[encoded data removed]"
          },
          "metadata": {}
        }
      ]
    },
    {
      "cell_type": "markdown",
      "source": [
        "همانطور که از نتایج اموزش دادگان نرمال سازی نشده مشخص است با وجود تمام تلاش های صورت گرفته مدل دچار بیش برازش شده است و این را از نتایج اموزش و تست میتوان نتیجه گرفت.\n",
        "زیرا احرین دقت بدست امده از ترین 0.85 است در حالی که در هنگام تست دقت در حدود مقدار 0.74 است.\n",
        "اما از نتایج بدست امده از اموزش دادگان نرمال سازی شده میتوان نتیجه گرفت که دقت در حدود 0.89 است که بهبود دقت در هنگام اموزش نسبت اموزش دادگان نرمال سازی نشده را نشان میدهد.\n",
        "همچنین دقت در هنگام تست در حدود 0.80 است که خود نشان دهنده این است که مشکل بیش برازش با استفاده از نرمال سازی تا حد زیادی حل شده و دقت بدست امده خوب و قابل قبول است."
      ],
      "metadata": {
        "id": "PIoBfwRL-ltt"
      }
    },
    {
      "cell_type": "code",
      "source": [],
      "metadata": {
        "id": "JglDFxAp_-Hm"
      },
      "execution_count": null,
      "outputs": []
    }
  ]
}